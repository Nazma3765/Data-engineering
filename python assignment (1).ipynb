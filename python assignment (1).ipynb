{
 "cells": [
  {
   "cell_type": "code",
   "execution_count": 7,
   "id": "e5e8d0d0-0129-45d4-a051-a87a56c408b3",
   "metadata": {},
   "outputs": [],
   "source": [
    "retail_inventory = {\n",
    "    \"Electronics\": {\n",
    "        \"Laptop\": [55000, 30, \"Dell\"],\n",
    "        \"Mobile\": [25000, 50, \"Samsung\"],\n",
    "        \"Tablet\": [18000, 20, \"Lenovo\"],\n",
    "        \"Smart Watch\": [7999, 40, \"Noise\"]\n",
    "    },\n",
    "    \"Apparel\": {\n",
    "        \"T-Shirt\": [499, 100, \"H&M\"],\n",
    "        \"Jeans\": [1199, 60, \"Levi's\"],\n",
    "        \"Jacket\": [2499, 25, \"Puma\"]\n",
    "    },\n",
    "    \"Home Appliances\": {\n",
    "        \"Microwave\": [8500, 15, \"LG\"],\n",
    "        \"Vacuum Cleaner\": [7000, 10, \"Philips\"],\n",
    "        \"Refrigerator\": [30000, 8, \"Samsung\"]\n",
    "    }\n",
    "}\n"
   ]
  },
  {
   "cell_type": "code",
   "execution_count": null,
   "id": "36213244-3309-47e4-adb6-77d3487acc77",
   "metadata": {},
   "outputs": [],
   "source": []
  },
  {
   "cell_type": "code",
   "execution_count": 5,
   "id": "545efddf-fe3a-4c95-b0ef-838d9309d4a6",
   "metadata": {},
   "outputs": [
    {
     "data": {
      "text/plain": [
       "dict_keys(['Electronics', 'Apparel', 'Home Appliances'])"
      ]
     },
     "execution_count": 5,
     "metadata": {},
     "output_type": "execute_result"
    }
   ],
   "source": [
    "##How do you get all the keys from a dictionary?\n",
    "retail_inventory.keys()"
   ]
  },
  {
   "cell_type": "code",
   "execution_count": 6,
   "id": "eddd5838-c848-4692-ba05-8a4ce6b3c787",
   "metadata": {},
   "outputs": [
    {
     "data": {
      "text/plain": [
       "dict_values([{'Laptop': [55000, 30, 'Dell'], 'Mobile': [25000, 50, 'Samsung'], 'Tablet': [18000, 20, 'Lenovo'], 'Smart Watch': [7999, 40, 'Noise']}, {'T-Shirt': [499, 100, 'H&M'], 'Jeans': [1199, 60, \"Levi's\"], 'Jacket': [2499, 25, 'Puma']}, {'Microwave': [8500, 15, 'LG'], 'Vacuum Cleaner': [7000, 10, 'Philips'], 'Refrigerator': [30000, 8, 'Samsung']}])"
      ]
     },
     "execution_count": 6,
     "metadata": {},
     "output_type": "execute_result"
    }
   ],
   "source": [
    "##How do you get all the values from a dictionary?\n",
    "retail_inventory.values()"
   ]
  },
  {
   "cell_type": "code",
   "execution_count": 7,
   "id": "08ed6047-ddeb-4611-a1bd-d2a440d480e1",
   "metadata": {},
   "outputs": [
    {
     "data": {
      "text/plain": [
       "{'Laptop': [55000, 30, 'Dell'],\n",
       " 'Mobile': [25000, 50, 'Samsung'],\n",
       " 'Tablet': [18000, 20, 'Lenovo'],\n",
       " 'Smart Watch': [7999, 40, 'Noise']}"
      ]
     },
     "execution_count": 7,
     "metadata": {},
     "output_type": "execute_result"
    }
   ],
   "source": [
    "##How do you retrieve the value for a specific key safely?\n",
    "retail_inventory.get(\"Electronics\")\n",
    "\n"
   ]
  },
  {
   "cell_type": "code",
   "execution_count": 11,
   "id": "aa24bb5b-367f-4ece-8662-f676d300be45",
   "metadata": {},
   "outputs": [
    {
     "ename": "TypeError",
     "evalue": "'in <string>' requires string as left operand, not dict",
     "output_type": "error",
     "traceback": [
      "\u001b[1;31m---------------------------------------------------------------------------\u001b[0m",
      "\u001b[1;31mTypeError\u001b[0m                                 Traceback (most recent call last)",
      "Cell \u001b[1;32mIn[11], line 1\u001b[0m\n\u001b[1;32m----> 1\u001b[0m \u001b[43mretail_inventory\u001b[49m\u001b[43m \u001b[49m\u001b[38;5;129;43;01min\u001b[39;49;00m\u001b[43m \u001b[49m\u001b[38;5;124;43m\"\u001b[39;49m\u001b[38;5;124;43mElectronics\u001b[39;49m\u001b[38;5;124;43m\"\u001b[39;49m\n",
      "\u001b[1;31mTypeError\u001b[0m: 'in <string>' requires string as left operand, not dict"
     ]
    }
   ],
   "source": [
    "retail_inventory in \"Electronics\""
   ]
  },
  {
   "cell_type": "code",
   "execution_count": 12,
   "id": "de51ee23-9c71-42e5-8275-551e84e76029",
   "metadata": {},
   "outputs": [
    {
     "data": {
      "text/plain": [
       "{'Laptop': [55000, 30, 'Dell'],\n",
       " 'Mobile': [25000, 50, 'Samsung'],\n",
       " 'Tablet': [18000, 20, 'Lenovo'],\n",
       " 'Smart Watch': [7999, 40, 'Noise']}"
      ]
     },
     "execution_count": 12,
     "metadata": {},
     "output_type": "execute_result"
    }
   ],
   "source": [
    " #How do you remove a key and return its value? \n",
    "retail_inventory.pop(\"Electronics\")\n",
    "\n"
   ]
  },
  {
   "cell_type": "code",
   "execution_count": 13,
   "id": "c2cb9c95-7c85-4a2c-a2b9-8b7964eeda74",
   "metadata": {},
   "outputs": [
    {
     "data": {
      "text/plain": [
       "{'Apparel': {'T-Shirt': [499, 100, 'H&M'],\n",
       "  'Jeans': [1199, 60, \"Levi's\"],\n",
       "  'Jacket': [2499, 25, 'Puma']},\n",
       " 'Home Appliances': {'Microwave': [8500, 15, 'LG'],\n",
       "  'Vacuum Cleaner': [7000, 10, 'Philips'],\n",
       "  'Refrigerator': [30000, 8, 'Samsung']}}"
      ]
     },
     "execution_count": 13,
     "metadata": {},
     "output_type": "execute_result"
    }
   ],
   "source": [
    "#How do you copy a dictionary? \n",
    "retail_inventory.copy()"
   ]
  },
  {
   "cell_type": "code",
   "execution_count": 15,
   "id": "751316c3-6d57-4af6-a8ff-bd8c48088f93",
   "metadata": {},
   "outputs": [],
   "source": [
    "##How do you remove all key-value pairs from a dictionary?\n",
    "retail_inventory.clear()"
   ]
  },
  {
   "cell_type": "code",
   "execution_count": 20,
   "id": "0f6e8687-828a-4dec-8a2e-b87175c6b048",
   "metadata": {},
   "outputs": [
    {
     "name": "stdout",
     "output_type": "stream",
     "text": [
      "{'Electronics': {'Laptop': [55000, 50, 'Dell'], 'Mobile': [25000, 50, 'Samsung']}}\n"
     ]
    }
   ],
   "source": [
    "##How do you add or update a value for a key?\n",
    "retail_inventory.update({\"Electronics\": {\"Laptop\": [55000, 50, \"Dell\"], \"Mobile\": [25000, 50, \"Samsung\"]}})\n",
    "print(retail_inventory)\n"
   ]
  },
  {
   "cell_type": "code",
   "execution_count": 23,
   "id": "ad73f839-a6c2-412b-bc5f-654dd9c56c0c",
   "metadata": {},
   "outputs": [
    {
     "data": {
      "text/plain": [
       "dict_items([('Electronics', {'Laptop': [55000, 30, 'Dell'], 'Mobile': [25000, 50, 'Samsung'], 'Tablet': [18000, 20, 'Lenovo'], 'Smart Watch': [7999, 40, 'Noise']}), ('Apparel', {'T-Shirt': [499, 100, 'H&M'], 'Jeans': [1199, 60, \"Levi's\"], 'Jacket': [2499, 25, 'Puma']}), ('Home Appliances', {'Microwave': [8500, 15, 'LG'], 'Vacuum Cleaner': [7000, 10, 'Philips'], 'Refrigerator': [30000, 8, 'Samsung']})])"
      ]
     },
     "execution_count": 23,
     "metadata": {},
     "output_type": "execute_result"
    }
   ],
   "source": [
    "##How do you retrieve both keys and values\n",
    "retail_inventory.items()"
   ]
  },
  {
   "cell_type": "code",
   "execution_count": 27,
   "id": "dd6c2f41-8d1a-4ac4-b7c0-6a46207db900",
   "metadata": {},
   "outputs": [],
   "source": [
    "##How do you create an empty dictionary?\n",
    "retail_inventory = { } or retail_inventory=dict()"
   ]
  },
  {
   "cell_type": "code",
   "execution_count": 28,
   "id": "0203b056-99cc-4d14-93f2-d13872e6363c",
   "metadata": {},
   "outputs": [
    {
     "data": {
      "text/plain": [
       "{'tv': [25, 26, 'LG']}"
      ]
     },
     "execution_count": 28,
     "metadata": {},
     "output_type": "execute_result"
    }
   ],
   "source": [
    "##Use .setdefault() to assign a default value to a missing key.\n",
    "retail_inventory.setdefault(\"Electronics\",{\"tv\" : [25,26,\"LG\"]})"
   ]
  },
  {
   "cell_type": "code",
   "execution_count": 29,
   "id": "912abd80-1ba7-4d24-b919-497c4af81eda",
   "metadata": {},
   "outputs": [],
   "source": [
    "\n",
    "retail_inventory1 = {\n",
    "    \"Electronics\": {\n",
    "        \"Laptop\": [55000, 30, \"Dell\"],\n",
    "        \"Mobile\": [25000, 50, \"Samsung\"]\n",
    "    },\n",
    "    \"Apparel\": {\n",
    "        \"T-Shirt\": [499, 100, \"H&M\"]\n",
    "    }\n",
    "}\n",
    "\n",
    "retail_inventory2 = {\n",
    "    \"Home Appliances\": {\n",
    "        \"Microwave\": [8500, 15, \"LG\"],\n",
    "        \"Refrigerator\": [30000, 8, \"Samsung\"]\n",
    "    },\n",
    "    \"Apparel\": {  \n",
    "        \"Jeans\": [1199, 60, \"Levi's\"],\n",
    "        \"Jacket\": [2499, 25, \"Puma\"]\n",
    "    }\n",
    "}\n",
    "\n",
    "\n"
   ]
  },
  {
   "cell_type": "code",
   "execution_count": 31,
   "id": "c55cde19-f701-433e-9f51-b231aecef691",
   "metadata": {},
   "outputs": [
    {
     "name": "stdout",
     "output_type": "stream",
     "text": [
      "{'Electronics': {'Laptop': [55000, 30, 'Dell'], 'Mobile': [25000, 50, 'Samsung']}, 'Apparel': {'Jeans': [1199, 60, \"Levi's\"], 'Jacket': [2499, 25, 'Puma']}, 'Home Appliances': {'Microwave': [8500, 15, 'LG'], 'Refrigerator': [30000, 8, 'Samsung']}}\n"
     ]
    }
   ],
   "source": [
    "#Use .update() to merge two dictionaries.\n",
    "retail_inventory1.update(retail_inventory2)\n",
    "print(retail_inventory1)"
   ]
  },
  {
   "cell_type": "code",
   "execution_count": 33,
   "id": "a8c8dbc7-5123-4618-87e6-a40750245236",
   "metadata": {},
   "outputs": [
    {
     "data": {
      "text/plain": [
       "{'Laptop': [55000, 30, 'Dell'],\n",
       " 'Mobile': [25000, 50, 'Samsung'],\n",
       " 'Tablet': [18000, 20, 'Lenovo'],\n",
       " 'Smart Watch': [7999, 40, 'Noise']}"
      ]
     },
     "execution_count": 33,
     "metadata": {},
     "output_type": "execute_result"
    }
   ],
   "source": [
    "#Use .get() with a default return value if key is not found\n",
    "retail_inventory.get(\"Electronics\")"
   ]
  },
  {
   "cell_type": "code",
   "execution_count": 35,
   "id": "34ddf685-c7f6-4ed4-a1c8-2f079c38cbc5",
   "metadata": {},
   "outputs": [],
   "source": [
    "retail_inventory.get(\"Furniture\")"
   ]
  },
  {
   "cell_type": "code",
   "execution_count": 36,
   "id": "76a9c424-ce42-4b19-9705-fad45243ef15",
   "metadata": {},
   "outputs": [
    {
     "data": {
      "text/plain": [
       "{'Laptop': [55000, 30, 'Dell'],\n",
       " 'Mobile': [25000, 50, 'Samsung'],\n",
       " 'Tablet': [18000, 20, 'Lenovo'],\n",
       " 'Smart Watch': [7999, 40, 'Noise']}"
      ]
     },
     "execution_count": 36,
     "metadata": {},
     "output_type": "execute_result"
    }
   ],
   "source": [
    "##What’s the difference between .pop() and .popitem()? Try both.\n",
    ".pop(key): Requires a specific key and removes that key-value pair.\n",
    ".popitem(): Removes last key-value pair from the dictionary.\n",
    "\n",
    "retail_inventory.pop(\"Electronics\")"
   ]
  },
  {
   "cell_type": "code",
   "execution_count": 37,
   "id": "c1e2fd83-e6a4-4f16-ae9d-cbfd18d10463",
   "metadata": {},
   "outputs": [
    {
     "data": {
      "text/plain": [
       "{'Apparel': {'T-Shirt': [499, 100, 'H&M'],\n",
       "  'Jeans': [1199, 60, \"Levi's\"],\n",
       "  'Jacket': [2499, 25, 'Puma']},\n",
       " 'Home Appliances': {'Microwave': [8500, 15, 'LG'],\n",
       "  'Vacuum Cleaner': [7000, 10, 'Philips'],\n",
       "  'Refrigerator': [30000, 8, 'Samsung']}}"
      ]
     },
     "execution_count": 37,
     "metadata": {},
     "output_type": "execute_result"
    }
   ],
   "source": [
    "retail_inventory"
   ]
  },
  {
   "cell_type": "code",
   "execution_count": 40,
   "id": "0906b606-3434-43ff-adfb-1fdf2495f5f1",
   "metadata": {},
   "outputs": [
    {
     "data": {
      "text/plain": [
       "('Home Appliances',\n",
       " {'Microwave': [8500, 15, 'LG'],\n",
       "  'Vacuum Cleaner': [7000, 10, 'Philips'],\n",
       "  'Refrigerator': [30000, 8, 'Samsung']})"
      ]
     },
     "execution_count": 40,
     "metadata": {},
     "output_type": "execute_result"
    }
   ],
   "source": [
    "retail_inventory.popitem()"
   ]
  },
  {
   "cell_type": "code",
   "execution_count": 42,
   "id": "508d4b5a-e3ea-4ed1-8ba1-f131fb7ce83e",
   "metadata": {},
   "outputs": [],
   "source": [
    "#Use del to remove a key from a dictionary.\n",
    "del retail_inventory[\"Electronics\"][\"Laptop\"]"
   ]
  },
  {
   "cell_type": "code",
   "execution_count": 43,
   "id": "2008c41d-28b5-4fe6-b661-c215d2d680be",
   "metadata": {},
   "outputs": [
    {
     "data": {
      "text/plain": [
       "{'Electronics': {'Mobile': [25000, 50, 'Samsung'],\n",
       "  'Tablet': [18000, 20, 'Lenovo'],\n",
       "  'Smart Watch': [7999, 40, 'Noise']},\n",
       " 'Apparel': {'T-Shirt': [499, 100, 'H&M'],\n",
       "  'Jeans': [1199, 60, \"Levi's\"],\n",
       "  'Jacket': [2499, 25, 'Puma']},\n",
       " 'Home Appliances': {'Microwave': [8500, 15, 'LG'],\n",
       "  'Vacuum Cleaner': [7000, 10, 'Philips'],\n",
       "  'Refrigerator': [30000, 8, 'Samsung']}}"
      ]
     },
     "execution_count": 43,
     "metadata": {},
     "output_type": "execute_result"
    }
   ],
   "source": [
    "retail_inventory"
   ]
  },
  {
   "cell_type": "code",
   "execution_count": 44,
   "id": "70ffcc98-4b6f-42c0-8347-5bdaf41958e3",
   "metadata": {},
   "outputs": [
    {
     "data": {
      "text/plain": [
       "3"
      ]
     },
     "execution_count": 44,
     "metadata": {},
     "output_type": "execute_result"
    }
   ],
   "source": [
    "##Get the number of keys in a dictionary\n",
    "len(retail_inventory)"
   ]
  },
  {
   "cell_type": "code",
   "execution_count": 45,
   "id": "0efed1cc-c57b-4346-b9ef-db09a77a3208",
   "metadata": {},
   "outputs": [
    {
     "data": {
      "text/plain": [
       "{'Apple': 10, 'Banana': 20, 'Orange': 15}"
      ]
     },
     "execution_count": 45,
     "metadata": {},
     "output_type": "execute_result"
    }
   ],
   "source": [
    "#Convert a list of tuples into a dictionary.\n",
    "tuple_list = [(\"Apple\", 10), (\"Banana\", 20), (\"Orange\", 15)]\n",
    "dict(tuple_list)\n",
    "\n"
   ]
  },
  {
   "cell_type": "code",
   "execution_count": 46,
   "id": "de1dc042-3594-414a-be04-70369932886a",
   "metadata": {},
   "outputs": [
    {
     "data": {
      "text/plain": [
       "{'Apple': 10, 'Banana': 20, 'Orange': 15}"
      ]
     },
     "execution_count": 46,
     "metadata": {},
     "output_type": "execute_result"
    }
   ],
   "source": [
    "#Create a dictionary from two lists: one of keys and one of values. \n",
    "\n",
    "##The zip() function pairs elements from both lists together into tuples, and the\n",
    "##dict() constructor then converts these pairs into a dictionary.\n",
    "keys = [\"Apple\", \"Banana\", \"Orange\"]\n",
    "values = [10, 20, 15]\n",
    "dict(zip(keys, values))"
   ]
  },
  {
   "cell_type": "code",
   "execution_count": 47,
   "id": "128f0ab0-0a2e-40ce-98ac-316cd492d225",
   "metadata": {},
   "outputs": [
    {
     "data": {
      "text/plain": [
       "True"
      ]
     },
     "execution_count": 47,
     "metadata": {},
     "output_type": "execute_result"
    }
   ],
   "source": [
    "#Check if two dictionaries have the same keys. \n",
    "dict1 = {\"Apple\": 10, \"Banana\": 20, \"Orange\": 15}\n",
    "dict2 = {\"Apple\": 10, \"Banana\": 20, \"Orange\": 15}\n",
    "dict1.keys() == dict2.keys()\n"
   ]
  },
  {
   "cell_type": "code",
   "execution_count": 50,
   "id": "32298e4b-cf13-4cc6-98b5-4d0a097335d2",
   "metadata": {},
   "outputs": [
    {
     "data": {
      "text/plain": [
       "True"
      ]
     },
     "execution_count": 50,
     "metadata": {},
     "output_type": "execute_result"
    }
   ],
   "source": [
    "#Check if a dictionary is empty.  use not method or len method\n",
    "dict1 = {}\n",
    "dict2 = {\"Apple\": 10, \"Banana\": 20}\n",
    "not dict1"
   ]
  },
  {
   "cell_type": "code",
   "execution_count": 52,
   "id": "8f6d4230-4e38-4316-b316-fa143cbe8a0b",
   "metadata": {},
   "outputs": [
    {
     "data": {
      "text/plain": [
       "0"
      ]
     },
     "execution_count": 52,
     "metadata": {},
     "output_type": "execute_result"
    }
   ],
   "source": [
    "dict1 = {}\n",
    "dict2 = {\"Apple\": 10, \"Banana\": 20}\n",
    "len (dict1)"
   ]
  },
  {
   "cell_type": "code",
   "execution_count": 1,
   "id": "5550b22c-a4fa-40b9-a735-2d09f4c896a3",
   "metadata": {},
   "outputs": [
    {
     "name": "stdout",
     "output_type": "stream",
     "text": [
      "Merged dictionary: {'Fruits': {'Apple': 100, 'Banana': 200}, 'Vegetables': {'Carrot': 50, 'Tomato': 70}, 'Dairy': {'Milk': 30, 'Butter': 20}}\n"
     ]
    }
   ],
   "source": [
    " ##Merge 3 dictionaries using chained .update().\n",
    "dict1 = {\"Fruits\": {\"Apple\": 100, \"Banana\": 200}}\n",
    "dict2 = {\"Vegetables\": {\"Carrot\": 50, \"Tomato\": 70}}\n",
    "dict3 = {\"Dairy\": {\"Milk\": 30, \"Butter\": 20}}\n",
    "\n",
    "dict1.update(dict2)\n",
    "dict1.update(dict3)\n",
    "print(\"Merged dictionary:\", dict1)"
   ]
  },
  {
   "cell_type": "code",
   "execution_count": 2,
   "id": "4d1b6cf7-06c1-43d2-874d-fabe361b217e",
   "metadata": {},
   "outputs": [
    {
     "data": {
      "text/plain": [
       "{'Apple': [10, 20, 15], 'Banana': [10, 20, 15], 'Orange': [10, 20, 15]}"
      ]
     },
     "execution_count": 2,
     "metadata": {},
     "output_type": "execute_result"
    }
   ],
   "source": [
    "##Use .fromkeys() to create a dictionary with default values.\n",
    "The .fromkeys() method is a built-in method in Python that allows you to create a new dictionary with a specified list of keys. \n",
    "keys = [\"Apple\", \"Banana\", \"Orange\"]\n",
    "values = [10, 20, 15]\n",
    "dict.fromkeys(keys, values)"
   ]
  },
  {
   "cell_type": "code",
   "execution_count": 6,
   "id": "d76ef4b0-04be-464b-8aa3-de76f5cace89",
   "metadata": {},
   "outputs": [
    {
     "data": {
      "text/plain": [
       "{'Apple': 'Not Available',\n",
       " 'Banana': 'Not Available',\n",
       " 'Orange': 'Not Available'}"
      ]
     },
     "execution_count": 6,
     "metadata": {},
     "output_type": "execute_result"
    }
   ],
   "source": [
    "keys = [\"Apple\", \"Banana\", \"Orange\"]\n",
    "default_value = \"Not Available\"\n",
    "dict.fromkeys(keys, default_value)"
   ]
  },
  {
   "cell_type": "code",
   "execution_count": 8,
   "id": "d8c91302-5ea6-4ebb-815e-9fb60e285e46",
   "metadata": {},
   "outputs": [
    {
     "data": {
      "text/plain": [
       "[55000, 30, 'Dell']"
      ]
     },
     "execution_count": 8,
     "metadata": {},
     "output_type": "execute_result"
    }
   ],
   "source": [
    "##Use .get() to avoid a KeyError while accessing a deeply nested dictionary.\n",
    "The .get() method is used to safely access the \"Electronics\" category. \n",
    "If \"Electronics\" doesn't exist in the dictionary, it returns an empty dictionary {} by default.\n",
    "retail_inventory.get(\"Electronics\", {}).get(\"Laptop\", [])"
   ]
  },
  {
   "cell_type": "code",
   "execution_count": 9,
   "id": "b7649841-087f-45c3-b96b-97a8f9f4d77b",
   "metadata": {},
   "outputs": [
    {
     "data": {
      "text/plain": [
       "[]"
      ]
     },
     "execution_count": 9,
     "metadata": {},
     "output_type": "execute_result"
    }
   ],
   "source": [
    "retail_inventory.get(\"Electronics\", {}).get(\"TV\", [])"
   ]
  },
  {
   "cell_type": "code",
   "execution_count": 13,
   "id": "916477fd-321f-4ba4-9650-f42641b892b4",
   "metadata": {},
   "outputs": [
    {
     "name": "stdout",
     "output_type": "stream",
     "text": [
      "Dictionary as a string (using str()): {'name': 'Nazma', 'age': 20, 'city': 'bangalore'}\n"
     ]
    }
   ],
   "source": [
    "#Convert a flat dictionary to a string using str() or json.dumps().\n",
    "flat_dict = {\n",
    "    \"name\": \"Nazma\",\n",
    "    \"age\": 20,\n",
    "    \"city\": \"bangalore\"\n",
    "}\n",
    "\n",
    "\n",
    "dict_str = str(flat_dict)\n",
    "print(\"Dictionary as a string (using str()):\", dict_str)\n"
   ]
  },
  {
   "cell_type": "code",
   "execution_count": 14,
   "id": "8a6fea98-cd94-4733-bf4f-9608afa36a55",
   "metadata": {},
   "outputs": [
    {
     "name": "stdout",
     "output_type": "stream",
     "text": [
      "Dictionary as a JSON string (using json.dumps()): {\"name\": \"NAZMA\", \"age\": 20, \"city\": \"bangalore\"}\n"
     ]
    }
   ],
   "source": [
    "import json\n",
    "\n",
    "\n",
    "flat_dict = {\n",
    "    \"name\": \"NAZMA\",\n",
    "    \"age\": 20,\n",
    "    \"city\": \"bangalore\"\n",
    "}\n",
    "\n",
    "dict_json_str = json.dumps(flat_dict)\n",
    "print(\"Dictionary as a JSON string (using json.dumps()):\", dict_json_str)\n"
   ]
  },
  {
   "cell_type": "code",
   "execution_count": null,
   "id": "47c16100-8456-44fb-924a-2faef86c6871",
   "metadata": {},
   "outputs": [],
   "source": []
  }
 ],
 "metadata": {
  "kernelspec": {
   "display_name": "Python 3 (ipykernel)",
   "language": "python",
   "name": "python3"
  },
  "language_info": {
   "codemirror_mode": {
    "name": "ipython",
    "version": 3
   },
   "file_extension": ".py",
   "mimetype": "text/x-python",
   "name": "python",
   "nbconvert_exporter": "python",
   "pygments_lexer": "ipython3",
   "version": "3.13.0"
  }
 },
 "nbformat": 4,
 "nbformat_minor": 5
}
