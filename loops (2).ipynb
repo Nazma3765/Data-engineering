{
 "cells": [
  {
   "cell_type": "code",
   "execution_count": 1,
   "id": "592a7b4f-76d1-4e7c-ba02-20489216e8ca",
   "metadata": {},
   "outputs": [
    {
     "name": "stdout",
     "output_type": "stream",
     "text": [
      "1\n",
      "2\n",
      "3\n",
      "4\n",
      "5\n"
     ]
    }
   ],
   "source": [
    "# 1. Print numbers from 1 to 5\n",
    "for i in range(1,6):\n",
    "    print(i)"
   ]
  },
  {
   "cell_type": "code",
   "execution_count": 2,
   "id": "3b493f5e-14fd-4067-b7c7-98beede3cd11",
   "metadata": {},
   "outputs": [
    {
     "name": "stdout",
     "output_type": "stream",
     "text": [
      "d\n",
      "a\n",
      "t\n",
      "a\n"
     ]
    }
   ],
   "source": [
    "# Print each letter in a string\n",
    "for char in \"data\":\n",
    "    print(char)"
   ]
  },
  {
   "cell_type": "code",
   "execution_count": 4,
   "id": "def24147-dbf6-4f56-b148-5d15eea865f1",
   "metadata": {},
   "outputs": [
    {
     "name": "stdout",
     "output_type": "stream",
     "text": [
      "total: 15\n"
     ]
    }
   ],
   "source": [
    " #3. Sum of numbers in a list\n",
    "numbers=[1,2,3,4,5]\n",
    "total=0\n",
    "for num in numbers:\n",
    "    total+=num\n",
    "print(\"total:\",total)"
   ]
  },
  {
   "cell_type": "code",
   "execution_count": 6,
   "id": "86ed518a-21d9-473d-9a25-1f2e66fde52a",
   "metadata": {},
   "outputs": [
    {
     "name": "stdout",
     "output_type": "stream",
     "text": [
      "2\n",
      "4\n",
      "6\n",
      "8\n",
      "10\n"
     ]
    }
   ],
   "source": [
    "#. Print even numbers from 1 to 10\n",
    "for i in range(1,11):\n",
    "    if i%2==0:\n",
    "        print(i)"
   ]
  },
  {
   "cell_type": "code",
   "execution_count": 7,
   "id": "32fa80f6-f674-4f07-93fa-d18e932e25c7",
   "metadata": {},
   "outputs": [
    {
     "name": "stdout",
     "output_type": "stream",
     "text": [
      "2\n",
      "4\n",
      "6\n",
      "8\n"
     ]
    }
   ],
   "source": [
    "for i in range(2,10,2):\n",
    "    print(i)"
   ]
  },
  {
   "cell_type": "code",
   "execution_count": 8,
   "id": "a333d77a-b3ff-4f3a-919b-8b95dc914dc9",
   "metadata": {},
   "outputs": [
    {
     "name": "stdout",
     "output_type": "stream",
     "text": [
      "3 * 1 = 3\n",
      "3 * 2 = 6\n",
      "3 * 3 = 9\n",
      "3 * 4 = 12\n",
      "3 * 5 = 15\n",
      "3 * 6 = 18\n",
      "3 * 7 = 21\n",
      "3 * 8 = 24\n",
      "3 * 9 = 27\n",
      "3 * 10 = 30\n"
     ]
    }
   ],
   "source": [
    "# 5. Print multiplication table of 3\n",
    "for i in range(1,11):\n",
    "    print(3,\"*\",i,\"=\",3*i)"
   ]
  },
  {
   "cell_type": "code",
   "execution_count": 10,
   "id": "4b2a5a06-8e01-4046-800a-3235792d77a8",
   "metadata": {},
   "outputs": [
    {
     "name": "stdout",
     "output_type": "stream",
     "text": [
      "0 apple\n",
      "1 banana\n",
      "2 grapes\n"
     ]
    }
   ],
   "source": [
    "# 6. Iterate over list with index\n",
    "fruits=[\"apple\",\"banana\",\"grapes\"]\n",
    "for i in range(len(fruits)):\n",
    "    print(i,fruits[i])"
   ]
  },
  {
   "cell_type": "code",
   "execution_count": 12,
   "id": "fbc3aea7-de46-4661-b345-594deec756d7",
   "metadata": {},
   "outputs": [
    {
     "name": "stdout",
     "output_type": "stream",
     "text": [
      "0\n",
      "1\n",
      "4\n",
      "9\n",
      "16\n",
      "25\n"
     ]
    }
   ],
   "source": [
    "# 7. Print squares of number\n",
    "for i in range(6):\n",
    "     print(i**2)"
   ]
  },
  {
   "cell_type": "code",
   "execution_count": 15,
   "id": "9ac148f9-5a76-4105-b8bd-56a0aedc326e",
   "metadata": {},
   "outputs": [
    {
     "name": "stdout",
     "output_type": "stream",
     "text": [
      "name - Nazma\n",
      "age - 20\n"
     ]
    }
   ],
   "source": [
    "# 8. Loop over dictionary\n",
    "student={\"name\":\"Nazma\",\"age\":\"20\"}\n",
    "for key in student:\n",
    "    print(key,\"-\",student[key])\n"
   ]
  },
  {
   "cell_type": "code",
   "execution_count": 16,
   "id": "6ad1096f-e2d6-45a4-827d-8625d1181678",
   "metadata": {},
   "outputs": [
    {
     "name": "stdout",
     "output_type": "stream",
     "text": [
      "0 0\n",
      "0 1\n",
      "0 2\n",
      "0 3\n",
      "1 0\n",
      "1 1\n",
      "1 2\n",
      "1 3\n",
      "2 0\n",
      "2 1\n",
      "2 2\n",
      "2 3\n"
     ]
    }
   ],
   "source": [
    "# 9. Nested loop for pairs\n",
    "for i in range(3):\n",
    "    for j in range(4):\n",
    "        print(i,j)"
   ]
  },
  {
   "cell_type": "code",
   "execution_count": 23,
   "id": "3b680b15-49e9-4e8b-87e2-ae2d94dca58d",
   "metadata": {},
   "outputs": [
    {
     "name": "stdout",
     "output_type": "stream",
     "text": [
      "color: blue\n",
      "color: green\n",
      "color: red\n"
     ]
    }
   ],
   "source": [
    "# 10. Loop over a set\n",
    "colors={\"red\",\"blue\",\"green\"}\n",
    "for color in colors:\n",
    "    print(\"color:\",color)"
   ]
  },
  {
   "cell_type": "code",
   "execution_count": 26,
   "id": "2668d59d-62bc-4ea7-9316-119e56f86dec",
   "metadata": {},
   "outputs": [
    {
     "name": "stdout",
     "output_type": "stream",
     "text": [
      "0\n",
      "1\n",
      "2\n"
     ]
    }
   ],
   "source": [
    " #11. Loop with break\n",
    "for i in range(5):\n",
    "    if i==3:\n",
    "        break\n",
    "    print(i)"
   ]
  },
  {
   "cell_type": "code",
   "execution_count": 27,
   "id": "c2a3f24c-089c-40e8-ac10-5036e580dffc",
   "metadata": {},
   "outputs": [
    {
     "name": "stdout",
     "output_type": "stream",
     "text": [
      "0\n",
      "1\n",
      "2\n",
      "4\n"
     ]
    }
   ],
   "source": [
    "# 12. Loop with continue\n",
    "for i in range(5):\n",
    "    if i==3:\n",
    "        continue\n",
    "    print(i)"
   ]
  },
  {
   "cell_type": "code",
   "execution_count": 29,
   "id": "fc357885-9f8a-4a32-abf0-b48800a2b03e",
   "metadata": {},
   "outputs": [
    {
     "name": "stdout",
     "output_type": "stream",
     "text": [
      "reverse: o\n",
      "reverse: l\n",
      "reverse: l\n",
      "reverse: e\n",
      "reverse: h\n"
     ]
    }
   ],
   "source": [
    "# 13. Reverse a string\n",
    "s=\"hello\"\n",
    "for char in reversed(s):\n",
    "    print(\"reverse:\",char)"
   ]
  },
  {
   "cell_type": "code",
   "execution_count": 32,
   "id": "5427b5cd-8b01-4386-b1a5-796f72995eb0",
   "metadata": {},
   "outputs": [
    {
     "name": "stdout",
     "output_type": "stream",
     "text": [
      "a 90\n",
      "b 80\n",
      "c 70\n"
     ]
    }
   ],
   "source": [
    "# 14. Loop through two lists\n",
    "names=[\"a\",\"b\",\"c\"]\n",
    "score=[\"90\",\"80\",\"70\"]\n",
    "for names,score in zip(names,score):\n",
    "    print(names,score)"
   ]
  },
  {
   "cell_type": "code",
   "execution_count": 34,
   "id": "2ff1b03d-552c-462b-88f3-111e9f0fb113",
   "metadata": {},
   "outputs": [
    {
     "name": "stdout",
     "output_type": "stream",
     "text": [
      "matrix value: 1\n",
      "matrix value: 2\n",
      "matrix value: 3\n",
      "matrix value: 4\n",
      "matrix value: 5\n",
      "matrix value: 6\n"
     ]
    }
   ],
   "source": [
    "# 15. Nested list\n",
    "matrix=[[1,2,3],[4,5,6]]\n",
    "for row in matrix:\n",
    "    for value in row:\n",
    "        print(\"matrix value:\",value)"
   ]
  },
  {
   "cell_type": "code",
   "execution_count": 37,
   "id": "c0c6ace1-8e4b-424c-8465-6175da2363d5",
   "metadata": {},
   "outputs": [
    {
     "name": "stdout",
     "output_type": "stream",
     "text": [
      "squares: [0, 1, 4, 9, 16, 25]\n"
     ]
    }
   ],
   "source": [
    "# 16. List comprehension\n",
    "squares=[i**2 for i in range(6)]\n",
    "print(\"squares:\",squares)"
   ]
  },
  {
   "cell_type": "code",
   "execution_count": 45,
   "id": "6152bb89-950b-445f-b1c6-4f3adc877e4b",
   "metadata": {},
   "outputs": [
    {
     "name": "stdout",
     "output_type": "stream",
     "text": [
      "0\n",
      "1\n",
      "2\n",
      "pass\n"
     ]
    }
   ],
   "source": [
    "\n",
    "# 17. Loop with else\n",
    "for i in range(3):\n",
    "    print(i)\n",
    "else:\n",
    "     print(\"pass\")"
   ]
  },
  {
   "cell_type": "code",
   "execution_count": 46,
   "id": "9cdf18d2-a21f-4768-a6f2-631648b6959d",
   "metadata": {},
   "outputs": [
    {
     "name": "stdout",
     "output_type": "stream",
     "text": [
      "a\n",
      "i\n",
      "e\n"
     ]
    }
   ],
   "source": [
    "\n",
    "# 18. Filter vowels\n",
    "for char in \"machine\":\n",
    "    if char in \"aeiou\":\n",
    "        print(char)"
   ]
  },
  {
   "cell_type": "code",
   "execution_count": 47,
   "id": "5efc7121-bb92-4885-beee-f1927114900e",
   "metadata": {},
   "outputs": [
    {
     "name": "stdout",
     "output_type": "stream",
     "text": [
      "A - 65\n",
      "B - 66\n"
     ]
    }
   ],
   "source": [
    "# 19. ASCII values\n",
    "for char in \"AB\":\n",
    "    print(char,'-',ord(char))"
   ]
  },
  {
   "cell_type": "code",
   "execution_count": 48,
   "id": "1ad8ab9b-df94-4936-868b-4b231c8b8c35",
   "metadata": {},
   "outputs": [
    {
     "name": "stdout",
     "output_type": "stream",
     "text": [
      "5\n",
      "4\n",
      "3\n",
      "2\n",
      "1\n"
     ]
    }
   ],
   "source": [
    "\n",
    "# 20. Countdown\n",
    "for i in range(5,0,-1):\n",
    "    print(i)"
   ]
  },
  {
   "cell_type": "code",
   "execution_count": null,
   "id": "7a74728b-d4e6-43d7-8fac-4b0c8d681f83",
   "metadata": {},
   "outputs": [],
   "source": []
  },
  {
   "cell_type": "markdown",
   "id": "1ca2a1c0-f3a5-46d6-bacc-7bb82585defc",
   "metadata": {},
   "source": [
    "while loops"
   ]
  },
  {
   "cell_type": "code",
   "execution_count": 3,
   "id": "990cb0eb-f30d-4138-9a20-f46159e9da52",
   "metadata": {},
   "outputs": [
    {
     "name": "stdout",
     "output_type": "stream",
     "text": [
      "1\n",
      "2\n",
      "3\n",
      "4\n",
      "5\n"
     ]
    }
   ],
   "source": [
    "# 1. Count from 1 to 5\n",
    "i=1\n",
    "while i<=5:\n",
    "    print(i)\n",
    "    i=i+1\n",
    "\n"
   ]
  },
  {
   "cell_type": "code",
   "execution_count": 6,
   "id": "95276308-23c8-43cb-8c36-a062ab71bbf6",
   "metadata": {},
   "outputs": [
    {
     "name": "stdout",
     "output_type": "stream",
     "text": [
      "2\n",
      "4\n",
      "6\n",
      "8\n",
      "10\n"
     ]
    }
   ],
   "source": [
    "# 2. Print even numbers less than 10\n",
    "i=2\n",
    "while i <=10:\n",
    "    print(i)\n",
    "    i=i+2"
   ]
  },
  {
   "cell_type": "code",
   "execution_count": 8,
   "id": "a02c14b8-8943-4361-a9ed-8c386c0e7ded",
   "metadata": {},
   "outputs": [
    {
     "name": "stdout",
     "output_type": "stream",
     "text": [
      "sum: 105\n"
     ]
    }
   ],
   "source": [
    "\n",
    "# 3. Sum until 100\n",
    "sum=0\n",
    "i=1\n",
    "while sum<100:\n",
    "    sum=sum+i\n",
    "    i=i+1\n",
    "print(\"sum:\",sum)\n"
   ]
  },
  {
   "cell_type": "code",
   "execution_count": 10,
   "id": "38b67100-a91a-4307-b2be-46bd62e06b25",
   "metadata": {},
   "outputs": [
    {
     "name": "stdout",
     "output_type": "stream",
     "text": [
      "5\n",
      "4\n",
      "3\n",
      "2\n",
      "1\n"
     ]
    }
   ],
   "source": [
    "# 4. Countdown from 5\n",
    "i=5\n",
    "while i>0:\n",
    "    print(i)\n",
    "    i=i-1"
   ]
  },
  {
   "cell_type": "code",
   "execution_count": 1,
   "id": "312c48f5-0334-4203-8903-9eb76b6a70ef",
   "metadata": {},
   "outputs": [
    {
     "name": "stdout",
     "output_type": "stream",
     "text": [
      "0\n",
      "1\n",
      "2\n"
     ]
    }
   ],
   "source": [
    "# 5. Infinite loop with break\n",
    "i=0\n",
    "while True:\n",
    "    print(i)\n",
    "    if i==2:\n",
    "        break\n",
    "    i=i+1"
   ]
  },
  {
   "cell_type": "code",
   "execution_count": 11,
   "id": "2d1d37ab-f914-4878-9210-13105a3ab0c9",
   "metadata": {},
   "outputs": [
    {
     "name": "stdout",
     "output_type": "stream",
     "text": [
      "1\n",
      "3\n",
      "4\n",
      "5\n"
     ]
    }
   ],
   "source": [
    "\n",
    "# 6. Loop with continue\n",
    "\n",
    "i=0\n",
    "while i < 5:\n",
    "    i=i+1\n",
    "    if i == 2:\n",
    "        continue\n",
    "    print(i)\n",
    " \n"
   ]
  },
  {
   "cell_type": "code",
   "execution_count": 12,
   "id": "b6fca0a6-c717-46eb-a48e-58d2a1948f51",
   "metadata": {},
   "outputs": [
    {
     "name": "stdout",
     "output_type": "stream",
     "text": [
      "1\n",
      "2\n",
      "4\n",
      "8\n",
      "16\n",
      "32\n",
      "64\n"
     ]
    }
   ],
   "source": [
    "# 7. Print powers of 2 below 100\n",
    "i=1\n",
    "while i<100:\n",
    "    print(i)\n",
    "    i*=2"
   ]
  },
  {
   "cell_type": "code",
   "execution_count": 14,
   "id": "437fb6ed-5c74-4afe-8228-f7ff9bcdc344",
   "metadata": {},
   "outputs": [
    {
     "name": "stdout",
     "output_type": "stream",
     "text": [
      "1\n",
      "2\n",
      "3\n",
      "4\n",
      "5\n"
     ]
    }
   ],
   "source": [
    "# 8. Loop over list\n",
    "lst=[1,2,3,4,5]\n",
    "i=0\n",
    "while i < len(lst):\n",
    "    print(lst[i])\n",
    "    i=i+1"
   ]
  },
  {
   "cell_type": "code",
   "execution_count": 21,
   "id": "329b7432-5c45-4762-90c5-5615ebd53392",
   "metadata": {},
   "outputs": [
    {
     "name": "stdout",
     "output_type": "stream",
     "text": [
      "yes\n"
     ]
    }
   ],
   "source": [
    "# 9. Input validation\n",
    "x=\" \"\n",
    "while x !=\"yes\":\n",
    "    x = \"yes\"\n",
    "    print(\"yes\")"
   ]
  },
  {
   "cell_type": "code",
   "execution_count": 24,
   "id": "8787b1ba-5be8-481c-83e7-7f74ac6ad0f0",
   "metadata": {},
   "outputs": [
    {
     "name": "stdout",
     "output_type": "stream",
     "text": [
      "120\n"
     ]
    }
   ],
   "source": [
    "\n",
    "# 10. Factorial using while\n",
    "n=5\n",
    "fact=1\n",
    "while n>0:\n",
    "    fact*=n\n",
    "    n=n-1\n",
    "print(fact)"
   ]
  },
  {
   "cell_type": "code",
   "execution_count": 26,
   "id": "ca37645b-714e-4ce0-a9bf-dcaf0c367ad5",
   "metadata": {},
   "outputs": [
    {
     "name": "stdout",
     "output_type": "stream",
     "text": [
      "d\n",
      "a\n",
      "t\n",
      "a\n"
     ]
    }
   ],
   "source": [
    "# 11. Loop through characters\n",
    "s=\"data\"\n",
    "i=0\n",
    "while i < len(s):\n",
    "    print(s[i])\n",
    "    i=i+1"
   ]
  },
  {
   "cell_type": "code",
   "execution_count": 28,
   "id": "80cf4e27-bab2-4486-8ece-731540f9caf1",
   "metadata": {},
   "outputs": [
    {
     "name": "stdout",
     "output_type": "stream",
     "text": [
      "0\n",
      "1\n",
      "2\n",
      "done\n"
     ]
    }
   ],
   "source": [
    "# 12. Loop with else\n",
    "i=0\n",
    "while i<3:\n",
    "    print(i)\n",
    "    i=i+1\n",
    "else:\n",
    "    print(\"done\")"
   ]
  },
  {
   "cell_type": "code",
   "execution_count": 40,
   "id": "6c3db129-eac4-469f-9a38-28037f8487ff",
   "metadata": {},
   "outputs": [
    {
     "name": "stdout",
     "output_type": "stream",
     "text": [
      "3\n",
      "2\n",
      "1\n"
     ]
    }
   ],
   "source": [
    "\n",
    "# 13. Print digits of number\n",
    "n=123\n",
    "while n>0:\n",
    "    print(n%10)\n",
    "    n//=10"
   ]
  },
  {
   "cell_type": "code",
   "execution_count": 42,
   "id": "ab57758e-58e7-4fff-8916-8b4d73a0a7a3",
   "metadata": {},
   "outputs": [
    {
     "name": "stdout",
     "output_type": "stream",
     "text": [
      "0 0\n",
      "0 1\n",
      "1 0\n",
      "1 1\n"
     ]
    }
   ],
   "source": [
    "# 14. Nested while loop\n",
    "i=0\n",
    "while i < 2:\n",
    "    j = 0\n",
    "    while j < 2:\n",
    "        print(i,j)\n",
    "        j += 1\n",
    "    i +=1"
   ]
  },
  {
   "cell_type": "code",
   "execution_count": 43,
   "id": "162bad7a-d5b7-4bf6-9e43-5b418f9847d3",
   "metadata": {},
   "outputs": [
    {
     "name": "stdout",
     "output_type": "stream",
     "text": [
      "1\n",
      "3\n",
      "5\n",
      "7\n",
      "9\n"
     ]
    }
   ],
   "source": [
    "\n",
    "# 15. Print odd numbers\n",
    "i=1\n",
    "while i<10:\n",
    "    print(i)\n",
    "    i=i+2\n"
   ]
  },
  {
   "cell_type": "code",
   "execution_count": 1,
   "id": "5d23a750-2a13-432f-981b-cc236d67d82e",
   "metadata": {},
   "outputs": [
    {
     "name": "stdout",
     "output_type": "stream",
     "text": [
      "0\n",
      "2\n",
      "4\n",
      "6\n",
      "8\n"
     ]
    }
   ],
   "source": [
    "#odd numbers\n",
    "i=0\n",
    "while i<10:\n",
    "    print(i)\n",
    "    i=i+2"
   ]
  },
  {
   "cell_type": "code",
   "execution_count": 2,
   "id": "50e6f552-60b9-4552-b128-e5c24795a854",
   "metadata": {},
   "outputs": [
    {
     "name": "stdout",
     "output_type": "stream",
     "text": [
      "While Loop 16 Prime: True\n"
     ]
    }
   ],
   "source": [
    "# check prime numbers\n",
    "n = 7\n",
    "i = 2\n",
    "is_prime = True\n",
    "while i < n:\n",
    "    if n % i == 0:\n",
    "        is_prime = False\n",
    "        break\n",
    "    i += 1\n",
    "print(\"While Loop 16 Prime:\", is_prime)\n"
   ]
  },
  {
   "cell_type": "code",
   "execution_count": 6,
   "id": "69f1a1ad-af6d-4542-99d9-00fd68d67b33",
   "metadata": {},
   "outputs": [
    {
     "name": "stdout",
     "output_type": "stream",
     "text": [
      "321\n"
     ]
    }
   ],
   "source": [
    "\n",
    "# 17. Reverse number\n",
    "num=123\n",
    "rev=0\n",
    "while num >0:\n",
    "    rev=rev*10+num%10\n",
    "    num //= 10\n",
    "print(rev)\n"
   ]
  },
  {
   "cell_type": "code",
   "execution_count": 7,
   "id": "db987185-3a9d-4e3f-b436-635e4d792421",
   "metadata": {},
   "outputs": [
    {
     "name": "stdout",
     "output_type": "stream",
     "text": [
      "1\n",
      "1\n",
      "2\n",
      "3\n",
      "5\n",
      "8\n"
     ]
    }
   ],
   "source": [
    "\n",
    "# 18. Print Fibonacci up to 10\n",
    "a,b=0,1\n",
    "while b<=10:\n",
    "    print(b)\n",
    "    a,b=b,a+b\n",
    "\n"
   ]
  },
  {
   "cell_type": "code",
   "execution_count": 10,
   "id": "2b963987-8706-4862-9deb-cd61dd90a3ae",
   "metadata": {},
   "outputs": [
    {
     "name": "stdout",
     "output_type": "stream",
     "text": [
      "56\n"
     ]
    }
   ],
   "source": [
    "# 19. Loop to find first multiple of 7 > 50\n",
    "n=51\n",
    "while n % 7 != 0:\n",
    "    n=n+1\n",
    "print(n)"
   ]
  },
  {
   "cell_type": "code",
   "execution_count": 14,
   "id": "518ee67f-ea01-45b0-abbb-3327ead17b64",
   "metadata": {},
   "outputs": [
    {
     "name": "stdout",
     "output_type": "stream",
     "text": [
      "True\n"
     ]
    }
   ],
   "source": [
    "# 20. Check palindrome\n",
    "word = \"madam\"\n",
    "i=0\n",
    "j=len(word) - 1\n",
    "is_palindrome = True\n",
    "while i<j:\n",
    "    if word[i]!=word[j]:\n",
    "        is_palindrome=False\n",
    "        break\n",
    "    i=i+1\n",
    "    j=j-1\n",
    "print(is_palindrome)\n"
   ]
  },
  {
   "cell_type": "code",
   "execution_count": null,
   "id": "13e8f958-b205-4f01-a002-18495f6cd1e7",
   "metadata": {},
   "outputs": [],
   "source": []
  },
  {
   "cell_type": "code",
   "execution_count": null,
   "id": "22ba8710-19b9-4b40-be1b-1dcd6f1a3882",
   "metadata": {},
   "outputs": [],
   "source": [
    "if else\n"
   ]
  },
  {
   "cell_type": "code",
   "execution_count": 16,
   "id": "b728af57-57b1-45e8-9eb9-b282f9ee1d01",
   "metadata": {},
   "outputs": [
    {
     "name": "stdout",
     "output_type": "stream",
     "text": [
      "even\n"
     ]
    }
   ],
   "source": [
    "# 1. Check even or odd\n",
    "n=4\n",
    "if n % 2 ==0:\n",
    "    print(\"even\")\n",
    "else:\n",
    "    print(\"odd\")"
   ]
  },
  {
   "cell_type": "code",
   "execution_count": 17,
   "id": "4a76781a-7a86-4667-9ba1-dd325c752bf0",
   "metadata": {},
   "outputs": [
    {
     "name": "stdout",
     "output_type": "stream",
     "text": [
      "zero\n"
     ]
    }
   ],
   "source": [
    "# 2. Positive, Negative or Zero\n",
    "n=0\n",
    "if n>0:\n",
    "    print(\"positive\")\n",
    "elif n<0:\n",
    "    print(\"negative\")\n",
    "else:\n",
    "    print(\"zero\")"
   ]
  },
  {
   "cell_type": "code",
   "execution_count": 18,
   "id": "5d469fc8-a2c6-4022-8346-72ff68068525",
   "metadata": {},
   "outputs": [
    {
     "name": "stdout",
     "output_type": "stream",
     "text": [
      "elgible\n"
     ]
    }
   ],
   "source": [
    "# 3. Check eligibility\n",
    "age=18\n",
    "if age>=18:\n",
    "    print(\"elgible\")\n",
    "else:\n",
    "    print(\"not elgible\")"
   ]
  },
  {
   "cell_type": "code",
   "execution_count": 19,
   "id": "fc1ea61d-494e-491a-a5e0-5f723c919293",
   "metadata": {},
   "outputs": [
    {
     "name": "stdout",
     "output_type": "stream",
     "text": [
      "7\n"
     ]
    }
   ],
   "source": [
    "# 4. Max of two\n",
    "a,b=5,7\n",
    "if a>b:\n",
    "    print(a)\n",
    "else:\n",
    "    print(b)"
   ]
  },
  {
   "cell_type": "code",
   "execution_count": 24,
   "id": "68d4fefd-a9c9-41d4-8bc8-c5fd769395bd",
   "metadata": {},
   "outputs": [
    {
     "name": "stdout",
     "output_type": "stream",
     "text": [
      "b\n"
     ]
    }
   ],
   "source": [
    "# 5. Grading\n",
    "score=85\n",
    "if score>=90:\n",
    "    print(\"a\")\n",
    "elif score>=80:\n",
    "    print(\"b\")\n",
    "else:\n",
    "    print(\"c\")"
   ]
  },
  {
   "cell_type": "code",
   "execution_count": 26,
   "id": "c3764dda-b9ed-43c7-b6f7-fc0440e333a5",
   "metadata": {},
   "outputs": [
    {
     "name": "stdout",
     "output_type": "stream",
     "text": [
      "divisible by 5\n"
     ]
    }
   ],
   "source": [
    "# 6. Check divisor\n",
    "a=20\n",
    "if a%5 ==0:\n",
    "  print(\"divisible by 5\")"
   ]
  },
  {
   "cell_type": "code",
   "execution_count": 28,
   "id": "3c171ac4-a2ce-4196-81f0-d8726cf03a3a",
   "metadata": {},
   "outputs": [
    {
     "name": "stdout",
     "output_type": "stream",
     "text": [
      "welcome\n"
     ]
    }
   ],
   "source": [
    "\n",
    "# 7. Username match\n",
    "username=\"admin\"\n",
    "if username == \"admin\":\n",
    "    print(\"welcome\")"
   ]
  },
  {
   "cell_type": "code",
   "execution_count": 29,
   "id": "84eb5077-f1dc-4fee-92bf-a0edebe97a3e",
   "metadata": {},
   "outputs": [
    {
     "name": "stdout",
     "output_type": "stream",
     "text": [
      "acess granted\n"
     ]
    }
   ],
   "source": [
    "# 8. Password check\n",
    "password=\"1234\"\n",
    "if password == \"1234\":\n",
    "    print(\"acess granted\")\n",
    "else:\n",
    "    print(\"acess denied\")"
   ]
  },
  {
   "cell_type": "code",
   "execution_count": 30,
   "id": "16ed1bad-e4d5-4d6e-bba3-1e58db899d60",
   "metadata": {},
   "outputs": [
    {
     "name": "stdout",
     "output_type": "stream",
     "text": [
      "in range\n"
     ]
    }
   ],
   "source": [
    "# 9. Number in range\n",
    "num=8\n",
    "if 1 <= num <=10:\n",
    "    print(\"in range\")"
   ]
  },
  {
   "cell_type": "code",
   "execution_count": 31,
   "id": "08a065ab-d2f4-482c-9e3a-2b9b636397c4",
   "metadata": {},
   "outputs": [
    {
     "name": "stdout",
     "output_type": "stream",
     "text": [
      "leap year\n"
     ]
    }
   ],
   "source": [
    "\n",
    "# 10. Leap year check\n",
    "\n",
    "year=2020\n",
    "if(year%4==0 and year% 100!=0) or (year%400 == 0):\n",
    "    print(\"leap year\")\n",
    "else:\n",
    "    print(\"non leap year\")"
   ]
  },
  {
   "cell_type": "code",
   "execution_count": 32,
   "id": "10182d64-67c0-41df-ac91-8d04419a9b81",
   "metadata": {},
   "outputs": [
    {
     "name": "stdout",
     "output_type": "stream",
     "text": [
      "is's a string\n"
     ]
    }
   ],
   "source": [
    "# 11. Check type\n",
    "value=\"123\"\n",
    "if isinstance(value,str):\n",
    "    print(\"is's a string\")"
   ]
  },
  {
   "cell_type": "code",
   "execution_count": 34,
   "id": "6b062e62-683d-49d7-90af-d9adb2912f1f",
   "metadata": {},
   "outputs": [
    {
     "name": "stdout",
     "output_type": "stream",
     "text": [
      "alphabet\n"
     ]
    }
   ],
   "source": [
    "# 12. Check alphabet\n",
    "char='a'\n",
    "if char.isalpha():\n",
    "    print(\"alphabet\")"
   ]
  },
  {
   "cell_type": "code",
   "execution_count": 35,
   "id": "25891996-95ad-46de-9aa2-e2a499bdc22e",
   "metadata": {},
   "outputs": [
    {
     "name": "stdout",
     "output_type": "stream",
     "text": [
      "upper\n"
     ]
    }
   ],
   "source": [
    "\n",
    "# 13. Check upper or lower\n",
    "\n",
    "char='A'\n",
    "if char.isupper():\n",
    "    print(\"upper\")\n",
    "else:\n",
    "    print(\"lower\")"
   ]
  },
  {
   "cell_type": "code",
   "execution_count": 40,
   "id": "92bfeb37-de5e-451a-957f-f9fd0d9a12f5",
   "metadata": {},
   "outputs": [
    {
     "name": "stdout",
     "output_type": "stream",
     "text": [
      "vowel\n"
     ]
    }
   ],
   "source": [
    "# 14. Vowel or consonant\n",
    "ch ='e'\n",
    "if ch in 'aeiou':\n",
    "    print(\"vowel\")\n",
    "else:\n",
    "    print(\"consonant\")"
   ]
  },
  {
   "cell_type": "code",
   "execution_count": 41,
   "id": "f5203e1a-cfe5-4dd0-af11-372bfed6c15c",
   "metadata": {},
   "outputs": [
    {
     "name": "stdout",
     "output_type": "stream",
     "text": [
      "equilateral\n"
     ]
    }
   ],
   "source": [
    "# 16. Triangle type\n",
    "a,b,c=3,3,3\n",
    "if a==b==c:\n",
    "    print(\"equilateral\")\n",
    "elif a==b or b==c or a==c:\n",
    "    print(\"isolateral\")\n",
    "else:\n",
    "    print(\"scalene\")"
   ]
  },
  {
   "cell_type": "code",
   "execution_count": 42,
   "id": "b4f25adb-33da-4e7b-bb01-efb4329bcbb5",
   "metadata": {},
   "outputs": [
    {
     "name": "stdout",
     "output_type": "stream",
     "text": [
      "adult\n"
     ]
    }
   ],
   "source": [
    "# 17. Age group\n",
    "age=30\n",
    "if age <10:\n",
    "    print(\"child\")\n",
    "elif age <20:\n",
    "    print(\"teenage\")\n",
    "else:\n",
    "    print(\"adult\")"
   ]
  },
  {
   "cell_type": "code",
   "execution_count": 43,
   "id": "0973c454-821a-46a0-a313-eed8a5468d7e",
   "metadata": {},
   "outputs": [
    {
     "name": "stdout",
     "output_type": "stream",
     "text": [
      "ends with 3\n"
     ]
    }
   ],
   "source": [
    "\n",
    "# 18. Check last digit\n",
    "n=123\n",
    "if n%10 ==3:\n",
    "    print(\"ends with 3\")"
   ]
  },
  {
   "cell_type": "code",
   "execution_count": 44,
   "id": "b078448c-029f-4fab-a671-ce62a11c14c4",
   "metadata": {},
   "outputs": [
    {
     "name": "stdout",
     "output_type": "stream",
     "text": [
      "4-digit number\n"
     ]
    }
   ],
   "source": [
    "# 19. Number length\n",
    "n=1234\n",
    "if len(str(n))==4:\n",
    "    print(\"4-digit number\")"
   ]
  },
  {
   "cell_type": "code",
   "execution_count": null,
   "id": "5cd1d331-7c8e-4535-b49f-ae7a3b33bf53",
   "metadata": {},
   "outputs": [],
   "source": [
    "\n",
    "# 20. Compare strings\n",
    "\n",
    "s=\"hello\"\n",
    "t=\"worls"
   ]
  }
 ],
 "metadata": {
  "kernelspec": {
   "display_name": "Python 3 (ipykernel)",
   "language": "python",
   "name": "python3"
  },
  "language_info": {
   "codemirror_mode": {
    "name": "ipython",
    "version": 3
   },
   "file_extension": ".py",
   "mimetype": "text/x-python",
   "name": "python",
   "nbconvert_exporter": "python",
   "pygments_lexer": "ipython3",
   "version": "3.13.0"
  }
 },
 "nbformat": 4,
 "nbformat_minor": 5
}
